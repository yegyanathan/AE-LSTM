{
 "cells": [
  {
   "cell_type": "code",
   "execution_count": 1,
   "metadata": {},
   "outputs": [],
   "source": [
    "import torch\n",
    "import torch.nn as nn\n",
    "import pandas as pd\n",
    "import numpy as np\n",
    "\n",
    "import pytorch_lightning as pl\n",
    "from pytorch_lightning import Trainer\n",
    "from pytorch_lightning.loggers import TensorBoardLogger\n",
    "from pytorch_lightning.callbacks import ModelCheckpoint, EarlyStopping\n",
    "from pytorch_lightning.utilities.cli import LightningCLI\n",
    "\n",
    "from models import LSTMPredictor, PredictNextTimestep\n",
    "from torchinfo import summary"
   ]
  },
  {
   "cell_type": "code",
   "execution_count": 2,
   "metadata": {},
   "outputs": [
    {
     "data": {
      "text/plain": [
       "==========================================================================================\n",
       "Layer (type:depth-idx)                   Output Shape              Param #\n",
       "==========================================================================================\n",
       "PredictNextTimestep                      --                        --\n",
       "├─LSTM: 1-1                              [32, 10, 128]             201,216\n",
       "├─Linear: 1-2                            [32, 5]                   645\n",
       "==========================================================================================\n",
       "Total params: 201,861\n",
       "Trainable params: 201,861\n",
       "Non-trainable params: 0\n",
       "Total mult-adds (M): 64.41\n",
       "==========================================================================================\n",
       "Input size (MB): 0.01\n",
       "Forward/backward pass size (MB): 0.33\n",
       "Params size (MB): 0.81\n",
       "Estimated Total Size (MB): 1.14\n",
       "=========================================================================================="
      ]
     },
     "execution_count": 2,
     "metadata": {},
     "output_type": "execute_result"
    }
   ],
   "source": [
    "model_simple = PredictNextTimestep(input_size = 5,\n",
    "                    hidden_size = 128,\n",
    "                    output_size = 5,\n",
    "                    num_layers = 2,)\n",
    "\n",
    "summary(model_simple, input_size = (32, 10, 5))"
   ]
  },
  {
   "cell_type": "code",
   "execution_count": 3,
   "metadata": {},
   "outputs": [
    {
     "data": {
      "text/plain": [
       "==========================================================================================\n",
       "Layer (type:depth-idx)                   Output Shape              Param #\n",
       "==========================================================================================\n",
       "LSTMPredictor                            --                        --\n",
       "├─PredictNextTimestep: 1-1               [32, 5]                   --\n",
       "│    └─LSTM: 2-1                         [32, 10, 128]             201,216\n",
       "│    └─Linear: 2-2                       [32, 5]                   645\n",
       "├─MSELoss: 1-2                           --                        --\n",
       "==========================================================================================\n",
       "Total params: 201,861\n",
       "Trainable params: 201,861\n",
       "Non-trainable params: 0\n",
       "Total mult-adds (M): 64.41\n",
       "==========================================================================================\n",
       "Input size (MB): 0.01\n",
       "Forward/backward pass size (MB): 0.33\n",
       "Params size (MB): 0.81\n",
       "Estimated Total Size (MB): 1.14\n",
       "=========================================================================================="
      ]
     },
     "execution_count": 3,
     "metadata": {},
     "output_type": "execute_result"
    }
   ],
   "source": [
    "model = LSTMPredictor(\"Dataset\\IKCO1.csv\",\n",
    "                        learning_rate = 3e-4,\n",
    "                        batch_size = 32,\n",
    "                        split = [0.75, 0.25],\n",
    "                        input_size = 5,\n",
    "                        hidden_size = 128,\n",
    "                        output_size = 5,\n",
    "                        num_layers = 2,\n",
    "                        timestep = 10,)\n",
    "\n",
    "\n",
    "summary(model, input_size = (32, 10, 5))"
   ]
  },
  {
   "cell_type": "code",
   "execution_count": 4,
   "metadata": {},
   "outputs": [],
   "source": [
    "checkpoint_callback = ModelCheckpoint(dirpath = 'my_model',\n",
    "                                    every_n_epochs = 1,\n",
    "                                    monitor = 'val_loss',\n",
    "                                    mode = 'min')\n",
    "\n",
    "early_stop_callback = EarlyStopping(monitor = \"val_loss\",\n",
    "                                    min_delta = 0.00,\n",
    "                                    patience = 3,\n",
    "                                    verbose = False,\n",
    "                                    mode = \"min\")\n",
    "\n",
    "logger = TensorBoardLogger('pure-lstm-logs/', name = 'pure-lstm', version = 0)"
   ]
  },
  {
   "cell_type": "code",
   "execution_count": 5,
   "metadata": {},
   "outputs": [
    {
     "name": "stderr",
     "output_type": "stream",
     "text": [
      "GPU available: True, used: True\n",
      "TPU available: False, using: 0 TPU cores\n",
      "IPU available: False, using: 0 IPUs\n",
      "HPU available: False, using: 0 HPUs\n",
      "LOCAL_RANK: 0 - CUDA_VISIBLE_DEVICES: [0]\n",
      "\n",
      "  | Name  | Type                | Params\n",
      "----------------------------------------------\n",
      "0 | model | PredictNextTimestep | 201 K \n",
      "1 | loss  | MSELoss             | 0     \n",
      "----------------------------------------------\n",
      "201 K     Trainable params\n",
      "0         Non-trainable params\n",
      "201 K     Total params\n",
      "0.807     Total estimated model params size (MB)\n"
     ]
    },
    {
     "name": "stdout",
     "output_type": "stream",
     "text": [
      "                                                                           "
     ]
    },
    {
     "name": "stderr",
     "output_type": "stream",
     "text": [
      "c:\\Anaconda\\lib\\site-packages\\pytorch_lightning\\trainer\\connectors\\data_connector.py:487: PossibleUserWarning: Your `val_dataloader`'s sampler has shuffling enabled, it is strongly recommended that you turn shuffling off for val/test/predict dataloaders.\n",
      "  rank_zero_warn(\n",
      "c:\\Anaconda\\lib\\site-packages\\pytorch_lightning\\trainer\\connectors\\data_connector.py:240: PossibleUserWarning: The dataloader, val_dataloader 0, does not have many workers which may be a bottleneck. Consider increasing the value of the `num_workers` argument` (try 8 which is the number of cpus on this machine) in the `DataLoader` init to improve performance.\n",
      "  rank_zero_warn(\n",
      "c:\\Anaconda\\lib\\site-packages\\torch\\nn\\modules\\loss.py:529: UserWarning: Using a target size (torch.Size([1, 1, 5])) that is different to the input size (torch.Size([1, 5])). This will likely lead to incorrect results due to broadcasting. Please ensure they have the same size.\n",
      "  return F.mse_loss(input, target, reduction=self.reduction)\n",
      "c:\\Anaconda\\lib\\site-packages\\pytorch_lightning\\trainer\\connectors\\data_connector.py:240: PossibleUserWarning: The dataloader, train_dataloader, does not have many workers which may be a bottleneck. Consider increasing the value of the `num_workers` argument` (try 8 which is the number of cpus on this machine) in the `DataLoader` init to improve performance.\n",
      "  rank_zero_warn(\n"
     ]
    },
    {
     "name": "stdout",
     "output_type": "stream",
     "text": [
      "Epoch 9: 100%|██████████| 4077/4077 [01:07<00:00, 60.59it/s, loss=0.000877, v_num=0, train_loss_step=0.011, train_loss_epoch=0.000918]   \n"
     ]
    }
   ],
   "source": [
    "trainer = Trainer(\n",
    "    default_root_dir = 'pure-lstm-logs/',\n",
    "    gpus = (1 if torch.cuda.is_available() else 0),\n",
    "    callbacks = [checkpoint_callback],\n",
    "    max_epochs = 10,\n",
    "    logger = logger)\n",
    "\n",
    "trainer.fit(model)"
   ]
  },
  {
   "cell_type": "code",
   "execution_count": null,
   "metadata": {},
   "outputs": [],
   "source": [
    "checkpoint_callback = ModelCheckpoint(dirpath = 'my_model1',\n",
    "                                    every_n_epochs = 1,\n",
    "                                    monitor = 'val_loss',\n",
    "                                    mode = 'min')\n",
    "\n",
    "early_stop_callback = EarlyStopping(monitor = \"val_loss\",\n",
    "                                    min_delta = 0.00,\n",
    "                                    patience = 3,\n",
    "                                    verbose = False,\n",
    "                                    mode = \"min\")\n",
    "\n",
    "logger = TensorBoardLogger('pure-lstm-logs/', name = 'pure-lstm', version = 1)"
   ]
  },
  {
   "cell_type": "code",
   "execution_count": null,
   "metadata": {},
   "outputs": [],
   "source": [
    "trainer = Trainer(\n",
    "    default_root_dir = 'pure-lstm-logs/',\n",
    "    gpus = (1 if torch.cuda.is_available() else 0),\n",
    "    callbacks = [checkpoint_callback, early_stop_callback],\n",
    "    max_epochs = 10,\n",
    "    logger = logger)\n",
    "\n",
    "trainer.fit(model)"
   ]
  }
 ],
 "metadata": {
  "interpreter": {
   "hash": "6f5583cf1d9466b5c27e75c89cc6b383bed5736d6b16c51c8074d8690011a952"
  },
  "kernelspec": {
   "display_name": "Python 3.9.7 ('base')",
   "language": "python",
   "name": "python3"
  },
  "language_info": {
   "codemirror_mode": {
    "name": "ipython",
    "version": 3
   },
   "file_extension": ".py",
   "mimetype": "text/x-python",
   "name": "python",
   "nbconvert_exporter": "python",
   "pygments_lexer": "ipython3",
   "version": "3.9.7"
  },
  "orig_nbformat": 4
 },
 "nbformat": 4,
 "nbformat_minor": 2
}
