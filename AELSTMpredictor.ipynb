{
 "cells": [
  {
   "cell_type": "code",
   "execution_count": 1,
   "metadata": {},
   "outputs": [],
   "source": [
    "import torch\n",
    "from pytorch_lightning import Trainer\n",
    "from pytorch_lightning.loggers import TensorBoardLogger\n",
    "from pytorch_lightning.callbacks import ModelCheckpoint, EarlyStopping\n",
    "\n",
    "from lightning_models import AELSTMPredictor\n",
    "from torchinfo import summary"
   ]
  },
  {
   "cell_type": "code",
   "execution_count": 2,
   "metadata": {},
   "outputs": [
    {
     "data": {
      "text/plain": [
       "==========================================================================================\n",
       "Layer (type:depth-idx)                   Output Shape              Param #\n",
       "==========================================================================================\n",
       "AELSTMPredictor                          --                        --\n",
       "├─AELSTM: 1-1                            [32, 5]                   --\n",
       "│    └─Encoder: 2-1                      [32, 10, 2]               --\n",
       "│    │    └─LSTM: 3-1                    [32, 10, 3]               120\n",
       "│    │    └─LSTM: 3-2                    [32, 10, 2]               56\n",
       "│    └─Decoder: 2-2                      [32, 10, 5]               --\n",
       "│    │    └─LSTM: 3-3                    [32, 10, 3]               84\n",
       "│    │    └─LSTM: 3-4                    [32, 10, 5]               200\n",
       "│    └─PredictNextTimestep: 2-3          [32, 5]                   --\n",
       "│    │    └─LSTM: 3-5                    [32, 10, 128]             331,776\n",
       "│    │    └─Linear: 3-6                  [32, 5]                   645\n",
       "│    │    └─Dropout: 3-7                 [32, 5]                   --\n",
       "├─MSELoss: 1-2                           --                        --\n",
       "├─MeanAbsoluteError: 1-3                 --                        --\n",
       "├─MeanSquaredError: 1-4                  --                        --\n",
       "==========================================================================================\n",
       "Total params: 332,881\n",
       "Trainable params: 332,881\n",
       "Non-trainable params: 0\n",
       "Total mult-adds (M): 106.34\n",
       "==========================================================================================\n",
       "Input size (MB): 0.01\n",
       "Forward/backward pass size (MB): 0.36\n",
       "Params size (MB): 1.33\n",
       "Estimated Total Size (MB): 1.70\n",
       "=========================================================================================="
      ]
     },
     "execution_count": 2,
     "metadata": {},
     "output_type": "execute_result"
    }
   ],
   "source": [
    "model = AELSTMPredictor(data_path = 'Dataset/IKCO1.csv',      \n",
    "                        learning_rate = 3e-4,\n",
    "                        weight_decay = 0,\n",
    "                        split = [0.70, 0.15, 0.15],\n",
    "                        batch_size = 128, \n",
    "                        input_size = 5,\n",
    "                        code_size = 2,\n",
    "                        intr_size = 3,\n",
    "                        hidden_size = 128,\n",
    "                        output_layer_size = 5,\n",
    "                        num_layers = 3,\n",
    "                        prob = 0.2,\n",
    "                        timestep = 10,)\n",
    "\n",
    "\n",
    "summary(model, input_size = (32, 10, 5))"
   ]
  },
  {
   "cell_type": "code",
   "execution_count": 3,
   "metadata": {},
   "outputs": [],
   "source": [
    "checkpoint_callback = ModelCheckpoint(dirpath = 'aelstmpredictor',\n",
    "                                    every_n_epochs = 1,\n",
    "                                    monitor = 'val_loss',\n",
    "                                    mode = 'min')\n",
    "\n",
    "early_stop_callback = EarlyStopping(monitor = \"val_loss\",\n",
    "                                    min_delta = 0.00,\n",
    "                                    patience = 10,\n",
    "                                    verbose = False,\n",
    "                                    mode = \"min\")\n",
    "\n",
    "logger = TensorBoardLogger('aelstmpredictor-logs/', name = 'aelstmpredictor', version = 0)"
   ]
  },
  {
   "cell_type": "code",
   "execution_count": 4,
   "metadata": {},
   "outputs": [
    {
     "name": "stderr",
     "output_type": "stream",
     "text": [
      "GPU available: True, used: True\n",
      "TPU available: False, using: 0 TPU cores\n",
      "IPU available: False, using: 0 IPUs\n",
      "HPU available: False, using: 0 HPUs\n",
      "LOCAL_RANK: 0 - CUDA_VISIBLE_DEVICES: [0]\n",
      "\n",
      "  | Name                | Type              | Params\n",
      "----------------------------------------------------------\n",
      "0 | model               | AELSTM            | 332 K \n",
      "1 | loss                | MSELoss           | 0     \n",
      "2 | mean_absolute_error | MeanAbsoluteError | 0     \n",
      "3 | mean_squared_error  | MeanSquaredError  | 0     \n",
      "----------------------------------------------------------\n",
      "332 K     Trainable params\n",
      "0         Non-trainable params\n",
      "332 K     Total params\n",
      "1.332     Total estimated model params size (MB)\n"
     ]
    },
    {
     "name": "stdout",
     "output_type": "stream",
     "text": [
      "Sanity Checking: 0it [00:00, ?it/s]"
     ]
    },
    {
     "name": "stderr",
     "output_type": "stream",
     "text": [
      "c:\\Anaconda\\lib\\site-packages\\pytorch_lightning\\trainer\\connectors\\data_connector.py:240: PossibleUserWarning: The dataloader, val_dataloader 0, does not have many workers which may be a bottleneck. Consider increasing the value of the `num_workers` argument` (try 8 which is the number of cpus on this machine) in the `DataLoader` init to improve performance.\n",
      "  rank_zero_warn(\n"
     ]
    },
    {
     "name": "stdout",
     "output_type": "stream",
     "text": [
      "                                                                            "
     ]
    },
    {
     "name": "stderr",
     "output_type": "stream",
     "text": [
      "c:\\Anaconda\\lib\\site-packages\\pytorch_lightning\\trainer\\connectors\\data_connector.py:240: PossibleUserWarning: The dataloader, train_dataloader, does not have many workers which may be a bottleneck. Consider increasing the value of the `num_workers` argument` (try 8 which is the number of cpus on this machine) in the `DataLoader` init to improve performance.\n",
      "  rank_zero_warn(\n",
      "c:\\Anaconda\\lib\\site-packages\\pytorch_lightning\\trainer\\trainer.py:1927: PossibleUserWarning: The number of training batches (22) is smaller than the logging interval Trainer(log_every_n_steps=50). Set a lower value for log_every_n_steps if you want to see logs for the training epoch.\n",
      "  rank_zero_warn(\n"
     ]
    },
    {
     "name": "stdout",
     "output_type": "stream",
     "text": [
      "Epoch 99: 100%|██████████| 26/26 [00:21<00:00,  1.20it/s, loss=0.0243, v_num=0, train_loss=0.0232]\n"
     ]
    }
   ],
   "source": [
    "trainer = Trainer(\n",
    "    default_root_dir = 'lstmpredictor-logs/',\n",
    "    gpus = (1 if torch.cuda.is_available() else 0),\n",
    "    callbacks = [checkpoint_callback, early_stop_callback],\n",
    "    max_epochs = 100,\n",
    "    logger = logger)\n",
    "\n",
    "trainer.fit(model = model)"
   ]
  },
  {
   "cell_type": "code",
   "execution_count": 5,
   "metadata": {},
   "outputs": [
    {
     "name": "stderr",
     "output_type": "stream",
     "text": [
      "c:\\Anaconda\\lib\\site-packages\\pytorch_lightning\\trainer\\trainer.py:1444: UserWarning: `.test(ckpt_path=None)` was called without a model. The best model of the previous `fit` call will be used. You can pass `test(ckpt_path='best')` to use and best model checkpoint and avoid this warning or `ckpt_path=trainer.checkpoint_callback.last_model_path` to use the last model.\n",
      "  rank_zero_warn(\n",
      "Restoring states from the checkpoint path at C:\\Users\\Yegyanathan V\\Desktop\\Python\\Deep Learning\\AE-LSTM\\aelstmpredictor\\epoch=97-step=2156.ckpt\n",
      "LOCAL_RANK: 0 - CUDA_VISIBLE_DEVICES: [0]\n",
      "Loaded model weights from checkpoint at C:\\Users\\Yegyanathan V\\Desktop\\Python\\Deep Learning\\AE-LSTM\\aelstmpredictor\\epoch=97-step=2156.ckpt\n",
      "c:\\Anaconda\\lib\\site-packages\\pytorch_lightning\\trainer\\connectors\\data_connector.py:240: PossibleUserWarning: The dataloader, test_dataloader 0, does not have many workers which may be a bottleneck. Consider increasing the value of the `num_workers` argument` (try 8 which is the number of cpus on this machine) in the `DataLoader` init to improve performance.\n",
      "  rank_zero_warn(\n"
     ]
    },
    {
     "name": "stdout",
     "output_type": "stream",
     "text": [
      "Testing DataLoader 0: 100%|██████████| 4/4 [00:00<00:00, 34.54it/s] \n",
      "────────────────────────────────────────────────────────────────────────────────────────────────────────────────────────\n",
      "       Test metric             DataLoader 0\n",
      "────────────────────────────────────────────────────────────────────────────────────────────────────────────────────────\n",
      "           MAE              0.2007925808429718\n",
      "           MSE              0.5661695599555969\n",
      "────────────────────────────────────────────────────────────────────────────────────────────────────────────────────────\n"
     ]
    },
    {
     "data": {
      "text/plain": [
       "[{'MAE': 0.2007925808429718, 'MSE': 0.5661695599555969}]"
      ]
     },
     "execution_count": 5,
     "metadata": {},
     "output_type": "execute_result"
    }
   ],
   "source": [
    "trainer.test(datamodule = model)"
   ]
  }
 ],
 "metadata": {
  "interpreter": {
   "hash": "6f5583cf1d9466b5c27e75c89cc6b383bed5736d6b16c51c8074d8690011a952"
  },
  "kernelspec": {
   "display_name": "Python 3.9.7 ('base')",
   "language": "python",
   "name": "python3"
  },
  "language_info": {
   "codemirror_mode": {
    "name": "ipython",
    "version": 3
   },
   "file_extension": ".py",
   "mimetype": "text/x-python",
   "name": "python",
   "nbconvert_exporter": "python",
   "pygments_lexer": "ipython3",
   "version": "3.9.7"
  },
  "orig_nbformat": 4
 },
 "nbformat": 4,
 "nbformat_minor": 2
}
