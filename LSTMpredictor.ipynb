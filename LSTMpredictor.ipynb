{
 "cells": [
  {
   "cell_type": "code",
   "execution_count": 1,
   "metadata": {},
   "outputs": [],
   "source": [
    "import torch\n",
    "import numpy as np\n",
    "import pandas as pd\n",
    "from pytorch_lightning import Trainer\n",
    "from pytorch_lightning.loggers import TensorBoardLogger\n",
    "from pytorch_lightning.callbacks import ModelCheckpoint, EarlyStopping\n",
    "\n",
    "\n",
    "from lightning_models import ForecastNextKDays\n",
    "from torchinfo import summary"
   ]
  },
  {
   "cell_type": "code",
   "execution_count": 2,
   "metadata": {},
   "outputs": [
    {
     "data": {
      "text/plain": [
       "==========================================================================================\n",
       "Layer (type:depth-idx)                   Output Shape              Param #\n",
       "==========================================================================================\n",
       "ForecastNextKDays                        --                        --\n",
       "├─forecastLSTM: 1-1                      [128, 1]                  --\n",
       "│    └─LSTM: 2-1                         [128, 21, 128]            465,408\n",
       "│    └─Linear: 2-2                       [128, 1]                  129\n",
       "├─MSELoss: 1-2                           --                        --\n",
       "├─MeanAbsoluteError: 1-3                 --                        --\n",
       "==========================================================================================\n",
       "Total params: 465,537\n",
       "Trainable params: 465,537\n",
       "Non-trainable params: 0\n",
       "Total mult-adds (G): 1.25\n",
       "==========================================================================================\n",
       "Input size (MB): 0.05\n",
       "Forward/backward pass size (MB): 2.75\n",
       "Params size (MB): 1.86\n",
       "Estimated Total Size (MB): 4.67\n",
       "=========================================================================================="
      ]
     },
     "execution_count": 2,
     "metadata": {},
     "output_type": "execute_result"
    }
   ],
   "source": [
    "model = ForecastNextKDays(data_path = 'Dataset\\IKCO1.csv',\n",
    "                            split = [0.80, 0.10, 0.10],\n",
    "                            batch_size = 128,\n",
    "                            learning_rate = 3e-4,\n",
    "                            weight_decay = 0)\n",
    "\n",
    "\n",
    "\n",
    "summary(model, input_size = (128, 21, 5))"
   ]
  },
  {
   "cell_type": "code",
   "execution_count": 3,
   "metadata": {},
   "outputs": [],
   "source": [
    "checkpoint_callback = ModelCheckpoint(dirpath = 'forecast',\n",
    "                                    filename = \"checkpoint.ckpt\",\n",
    "                                    every_n_epochs = 1,\n",
    "                                    monitor = 'val_loss',\n",
    "                                    mode = 'min')\n",
    "\n",
    "early_stop_callback = EarlyStopping(monitor = \"val_loss\",\n",
    "                                    min_delta = 0.00,\n",
    "                                    patience = 15,\n",
    "                                    verbose = False,\n",
    "                                    mode = \"min\")\n",
    "\n",
    "\n",
    "logger = TensorBoardLogger('forecast-logs/', name = 'forecast', version = 0)"
   ]
  },
  {
   "cell_type": "code",
   "execution_count": 4,
   "metadata": {},
   "outputs": [
    {
     "name": "stderr",
     "output_type": "stream",
     "text": [
      "GPU available: True, used: True\n",
      "TPU available: False, using: 0 TPU cores\n",
      "IPU available: False, using: 0 IPUs\n",
      "HPU available: False, using: 0 HPUs\n",
      "LOCAL_RANK: 0 - CUDA_VISIBLE_DEVICES: [0]\n",
      "\n",
      "  | Name                | Type              | Params\n",
      "----------------------------------------------------------\n",
      "0 | model               | forecastLSTM      | 465 K \n",
      "1 | loss                | MSELoss           | 0     \n",
      "2 | mean_absolute_error | MeanAbsoluteError | 0     \n",
      "----------------------------------------------------------\n",
      "465 K     Trainable params\n",
      "0         Non-trainable params\n",
      "465 K     Total params\n",
      "1.862     Total estimated model params size (MB)\n"
     ]
    },
    {
     "name": "stdout",
     "output_type": "stream",
     "text": [
      "Sanity Checking: 0it [00:00, ?it/s]"
     ]
    },
    {
     "name": "stderr",
     "output_type": "stream",
     "text": [
      "c:\\Anaconda\\lib\\site-packages\\pytorch_lightning\\trainer\\connectors\\data_connector.py:240: PossibleUserWarning: The dataloader, val_dataloader 0, does not have many workers which may be a bottleneck. Consider increasing the value of the `num_workers` argument` (try 8 which is the number of cpus on this machine) in the `DataLoader` init to improve performance.\n",
      "  rank_zero_warn(\n"
     ]
    },
    {
     "name": "stdout",
     "output_type": "stream",
     "text": [
      "                                                                           "
     ]
    },
    {
     "name": "stderr",
     "output_type": "stream",
     "text": [
      "c:\\Anaconda\\lib\\site-packages\\torch\\nn\\modules\\loss.py:529: UserWarning: Using a target size (torch.Size([128])) that is different to the input size (torch.Size([128, 1])). This will likely lead to incorrect results due to broadcasting. Please ensure they have the same size.\n",
      "  return F.mse_loss(input, target, reduction=self.reduction)\n",
      "c:\\Anaconda\\lib\\site-packages\\pytorch_lightning\\trainer\\connectors\\data_connector.py:240: PossibleUserWarning: The dataloader, train_dataloader, does not have many workers which may be a bottleneck. Consider increasing the value of the `num_workers` argument` (try 8 which is the number of cpus on this machine) in the `DataLoader` init to improve performance.\n",
      "  rank_zero_warn(\n",
      "c:\\Anaconda\\lib\\site-packages\\pytorch_lightning\\trainer\\trainer.py:1927: PossibleUserWarning: The number of training batches (25) is smaller than the logging interval Trainer(log_every_n_steps=50). Set a lower value for log_every_n_steps if you want to see logs for the training epoch.\n",
      "  rank_zero_warn(\n"
     ]
    },
    {
     "name": "stdout",
     "output_type": "stream",
     "text": [
      "Epoch 49: 100%|██████████| 27/27 [00:20<00:00,  1.35it/s, loss=0.00463, v_num=0, train_loss=0.0109]\n"
     ]
    }
   ],
   "source": [
    "trainer = Trainer(\n",
    "    default_root_dir = 'forecast-logs/',\n",
    "    gpus = (1 if torch.cuda.is_available() else 0),\n",
    "    callbacks = [checkpoint_callback,\n",
    "                        early_stop_callback],\n",
    "\n",
    "    auto_lr_find = True,\n",
    "    auto_scale_batch_size = True,                    \n",
    "    max_epochs = 100,\n",
    "    logger = logger)\n",
    "\n",
    "trainer.fit(model)"
   ]
  },
  {
   "cell_type": "code",
   "execution_count": 5,
   "metadata": {},
   "outputs": [
    {
     "name": "stderr",
     "output_type": "stream",
     "text": [
      "c:\\Anaconda\\lib\\site-packages\\pytorch_lightning\\trainer\\trainer.py:1444: UserWarning: `.test(ckpt_path=None)` was called without a model. The best model of the previous `fit` call will be used. You can pass `test(ckpt_path='best')` to use and best model checkpoint and avoid this warning or `ckpt_path=trainer.checkpoint_callback.last_model_path` to use the last model.\n",
      "  rank_zero_warn(\n",
      "c:\\Anaconda\\lib\\site-packages\\pytorch_lightning\\trainer\\configuration_validator.py:412: LightningDeprecationWarning: `LightningDataModule.on_save_checkpoint` was deprecated in v1.6 and will be removed in v1.8. Use `state_dict` instead.\n",
      "  rank_zero_deprecation(\n",
      "c:\\Anaconda\\lib\\site-packages\\pytorch_lightning\\trainer\\configuration_validator.py:417: LightningDeprecationWarning: `LightningDataModule.on_load_checkpoint` was deprecated in v1.6 and will be removed in v1.8. Use `load_state_dict` instead.\n",
      "  rank_zero_deprecation(\n",
      "Restoring states from the checkpoint path at C:\\Users\\Yegyanathan V\\Desktop\\Python\\Deep Learning\\AE-LSTM\\forecast\\checkpoint.ckpt.ckpt\n",
      "LOCAL_RANK: 0 - CUDA_VISIBLE_DEVICES: [0]\n",
      "Loaded model weights from checkpoint at C:\\Users\\Yegyanathan V\\Desktop\\Python\\Deep Learning\\AE-LSTM\\forecast\\checkpoint.ckpt.ckpt\n",
      "c:\\Anaconda\\lib\\site-packages\\pytorch_lightning\\trainer\\connectors\\data_connector.py:240: PossibleUserWarning: The dataloader, test_dataloader 0, does not have many workers which may be a bottleneck. Consider increasing the value of the `num_workers` argument` (try 8 which is the number of cpus on this machine) in the `DataLoader` init to improve performance.\n",
      "  rank_zero_warn(\n"
     ]
    },
    {
     "name": "stdout",
     "output_type": "stream",
     "text": [
      "Testing DataLoader 0: 100%|██████████| 2/2 [00:00<00:00, 18.33it/s]\n",
      "────────────────────────────────────────────────────────────────────────────────────────────────────────────────────────\n",
      "       Test metric             DataLoader 0\n",
      "────────────────────────────────────────────────────────────────────────────────────────────────────────────────────────\n",
      "           MAE              0.20578345656394958\n",
      "────────────────────────────────────────────────────────────────────────────────────────────────────────────────────────\n"
     ]
    },
    {
     "data": {
      "text/plain": [
       "[{'MAE': 0.20578345656394958}]"
      ]
     },
     "execution_count": 5,
     "metadata": {},
     "output_type": "execute_result"
    }
   ],
   "source": [
    "trainer.test(datamodule = model)"
   ]
  },
  {
   "cell_type": "code",
   "execution_count": 6,
   "metadata": {},
   "outputs": [],
   "source": [
    "from utils import create_dataset\n",
    "\n",
    "model = model.load_from_checkpoint(\"forecast\\checkpoint.ckpt.ckpt\")\n",
    "df = pd.read_csv('Dataset\\IKCO1.csv', index_col = [0])\n",
    "\n",
    "df_X = df[['<OPEN>','<HIGH>','<LOW>','<CLOSE>','<VOL>']] \n",
    "df_y = df[['<CLOSE>']]\n",
    "\n",
    "df_X_scaled = model.scaler_X.transform(df_X)\n",
    "\n",
    "\n",
    "inputs, actuals = create_dataset(df_X_scaled, df_y, 21, 10)"
   ]
  },
  {
   "cell_type": "code",
   "execution_count": 7,
   "metadata": {},
   "outputs": [
    {
     "name": "stdout",
     "output_type": "stream",
     "text": [
      "(4066, 21, 5) (4066, 1)\n"
     ]
    }
   ],
   "source": [
    "print(inputs.shape, actuals.shape)"
   ]
  },
  {
   "cell_type": "code",
   "execution_count": 8,
   "metadata": {},
   "outputs": [
    {
     "data": {
      "text/plain": [
       "tensor([[[2.0843e-01, 1.7390e-01, 2.1794e-01, 2.0865e-01, 4.3901e-04],\n",
       "         [2.0865e-01, 1.7462e-01, 2.1783e-01, 2.0843e-01, 3.8199e-04],\n",
       "         [2.0843e-01, 1.7372e-01, 2.1760e-01, 2.0811e-01, 6.6190e-04],\n",
       "         ...,\n",
       "         [2.3911e-01, 2.0054e-01, 2.4992e-01, 2.3976e-01, 1.9753e-03],\n",
       "         [2.3976e-01, 2.0342e-01, 2.5036e-01, 2.4405e-01, 2.8186e-03],\n",
       "         [2.4405e-01, 2.1746e-01, 2.5493e-01, 2.6078e-01, 3.7331e-04]],\n",
       "\n",
       "        [[2.0865e-01, 1.7462e-01, 2.1783e-01, 2.0843e-01, 3.8199e-04],\n",
       "         [2.0843e-01, 1.7372e-01, 2.1760e-01, 2.0811e-01, 6.6190e-04],\n",
       "         [2.0811e-01, 1.7813e-01, 2.1772e-01, 2.1390e-01, 3.1825e-04],\n",
       "         ...,\n",
       "         [2.3976e-01, 2.0342e-01, 2.5036e-01, 2.4405e-01, 2.8186e-03],\n",
       "         [2.4405e-01, 2.1746e-01, 2.5493e-01, 2.6078e-01, 3.7331e-04],\n",
       "         [2.6078e-01, 2.3222e-01, 2.8056e-01, 2.7837e-01, 3.8441e-03]],\n",
       "\n",
       "        [[2.0843e-01, 1.7372e-01, 2.1760e-01, 2.0811e-01, 6.6190e-04],\n",
       "         [2.0811e-01, 1.7813e-01, 2.1772e-01, 2.1390e-01, 3.1825e-04],\n",
       "         [2.1390e-01, 1.7804e-01, 2.1816e-01, 2.1272e-01, 7.0494e-04],\n",
       "         ...,\n",
       "         [2.4405e-01, 2.1746e-01, 2.5493e-01, 2.6078e-01, 3.7331e-04],\n",
       "         [2.6078e-01, 2.3222e-01, 2.8056e-01, 2.7837e-01, 3.8441e-03],\n",
       "         [2.7837e-01, 2.4662e-01, 2.8947e-01, 2.8588e-01, 2.6018e-03]],\n",
       "\n",
       "        ...,\n",
       "\n",
       "        [[2.6014e-01, 2.3132e-01, 2.5604e-01, 2.6765e-01, 7.5843e+00],\n",
       "         [2.6765e-01, 2.0882e-01, 2.6162e-01, 2.5048e-01, 3.2381e-01],\n",
       "         [2.5048e-01, 2.1602e-01, 2.4490e-01, 2.4083e-01, 6.8526e+00],\n",
       "         ...,\n",
       "         [3.5346e-01, 2.9973e-01, 3.5187e-01, 3.4596e-01, 7.2445e+00],\n",
       "         [3.4596e-01, 2.9523e-01, 3.3850e-01, 3.3630e-01, 6.2839e+00],\n",
       "         [3.3630e-01, 2.9793e-01, 3.4184e-01, 3.4917e-01, 7.9522e+00]],\n",
       "\n",
       "        [[2.6765e-01, 2.0882e-01, 2.6162e-01, 2.5048e-01, 3.2381e-01],\n",
       "         [2.5048e-01, 2.1602e-01, 2.4490e-01, 2.4083e-01, 6.8526e+00],\n",
       "         [2.4083e-01, 2.1422e-01, 2.4490e-01, 2.4726e-01, 6.4592e+00],\n",
       "         ...,\n",
       "         [3.4596e-01, 2.9523e-01, 3.3850e-01, 3.3630e-01, 6.2839e+00],\n",
       "         [3.3630e-01, 2.9793e-01, 3.4184e-01, 3.4917e-01, 7.9522e+00],\n",
       "         [3.4917e-01, 3.0963e-01, 3.7749e-01, 3.6956e-01, 1.0149e+01]],\n",
       "\n",
       "        [[2.5048e-01, 2.1602e-01, 2.4490e-01, 2.4083e-01, 6.8526e+00],\n",
       "         [2.4083e-01, 2.1422e-01, 2.4490e-01, 2.4726e-01, 6.4592e+00],\n",
       "         [2.4726e-01, 2.1962e-01, 2.5270e-01, 2.5692e-01, 6.4795e+00],\n",
       "         ...,\n",
       "         [3.3630e-01, 2.9793e-01, 3.4184e-01, 3.4917e-01, 7.9522e+00],\n",
       "         [3.4917e-01, 3.0963e-01, 3.7749e-01, 3.6956e-01, 1.0149e+01],\n",
       "         [3.6956e-01, 3.1503e-01, 3.6189e-01, 3.5668e-01, 1.1579e+01]]])"
      ]
     },
     "execution_count": 8,
     "metadata": {},
     "output_type": "execute_result"
    }
   ],
   "source": [
    "inputs = torch.tensor(inputs.astype(np.float32))\n",
    "inputs"
   ]
  },
  {
   "cell_type": "code",
   "execution_count": 9,
   "metadata": {},
   "outputs": [
    {
     "data": {
      "text/plain": [
       "array([0.23279345, 0.23470889, 0.2380489 , ..., 0.04455398, 0.04265679,\n",
       "       0.03724067], dtype=float32)"
      ]
     },
     "execution_count": 9,
     "metadata": {},
     "output_type": "execute_result"
    }
   ],
   "source": [
    "model.eval()\n",
    "with torch.no_grad():\n",
    "    \n",
    "    output = model(inputs) \n",
    "\n",
    "preds = output.squeeze()\n",
    "preds = np.array(preds) \n",
    "preds"
   ]
  },
  {
   "cell_type": "code",
   "execution_count": 10,
   "metadata": {},
   "outputs": [
    {
     "name": "stdout",
     "output_type": "stream",
     "text": [
      "(4066,)\n"
     ]
    }
   ],
   "source": [
    "print(preds.shape)"
   ]
  },
  {
   "cell_type": "code",
   "execution_count": 11,
   "metadata": {},
   "outputs": [],
   "source": [
    "predictions = pd.DataFrame(preds, columns = ['preds'])\n",
    "predictions[['preds']] = model.scaler_y.inverse_transform(predictions[['preds']])"
   ]
  },
  {
   "cell_type": "code",
   "execution_count": 12,
   "metadata": {},
   "outputs": [
    {
     "data": {
      "text/html": [
       "<div>\n",
       "<style scoped>\n",
       "    .dataframe tbody tr th:only-of-type {\n",
       "        vertical-align: middle;\n",
       "    }\n",
       "\n",
       "    .dataframe tbody tr th {\n",
       "        vertical-align: top;\n",
       "    }\n",
       "\n",
       "    .dataframe thead th {\n",
       "        text-align: right;\n",
       "    }\n",
       "</style>\n",
       "<table border=\"1\" class=\"dataframe\">\n",
       "  <thead>\n",
       "    <tr style=\"text-align: right;\">\n",
       "      <th></th>\n",
       "      <th>preds</th>\n",
       "      <th>actuals</th>\n",
       "    </tr>\n",
       "  </thead>\n",
       "  <tbody>\n",
       "    <tr>\n",
       "      <th>0</th>\n",
       "      <td>3025.100586</td>\n",
       "      <td>2800.0</td>\n",
       "    </tr>\n",
       "    <tr>\n",
       "      <th>1</th>\n",
       "      <td>3042.956299</td>\n",
       "      <td>2798.0</td>\n",
       "    </tr>\n",
       "    <tr>\n",
       "      <th>2</th>\n",
       "      <td>3074.091797</td>\n",
       "      <td>2795.0</td>\n",
       "    </tr>\n",
       "    <tr>\n",
       "      <th>3</th>\n",
       "      <td>3114.484619</td>\n",
       "      <td>2849.0</td>\n",
       "    </tr>\n",
       "    <tr>\n",
       "      <th>4</th>\n",
       "      <td>3156.826904</td>\n",
       "      <td>2838.0</td>\n",
       "    </tr>\n",
       "    <tr>\n",
       "      <th>5</th>\n",
       "      <td>3193.270996</td>\n",
       "      <td>2868.0</td>\n",
       "    </tr>\n",
       "    <tr>\n",
       "      <th>6</th>\n",
       "      <td>3217.733887</td>\n",
       "      <td>2900.0</td>\n",
       "    </tr>\n",
       "    <tr>\n",
       "      <th>7</th>\n",
       "      <td>3231.717773</td>\n",
       "      <td>3004.0</td>\n",
       "    </tr>\n",
       "    <tr>\n",
       "      <th>8</th>\n",
       "      <td>3241.932617</td>\n",
       "      <td>3102.0</td>\n",
       "    </tr>\n",
       "    <tr>\n",
       "      <th>9</th>\n",
       "      <td>3254.122070</td>\n",
       "      <td>3080.0</td>\n",
       "    </tr>\n",
       "  </tbody>\n",
       "</table>\n",
       "</div>"
      ],
      "text/plain": [
       "         preds  actuals\n",
       "0  3025.100586   2800.0\n",
       "1  3042.956299   2798.0\n",
       "2  3074.091797   2795.0\n",
       "3  3114.484619   2849.0\n",
       "4  3156.826904   2838.0\n",
       "5  3193.270996   2868.0\n",
       "6  3217.733887   2900.0\n",
       "7  3231.717773   3004.0\n",
       "8  3241.932617   3102.0\n",
       "9  3254.122070   3080.0"
      ]
     },
     "execution_count": 12,
     "metadata": {},
     "output_type": "execute_result"
    }
   ],
   "source": [
    "predictions['actuals'] = df_y['<CLOSE>']\n",
    "predictions.head(10)"
   ]
  },
  {
   "cell_type": "code",
   "execution_count": 13,
   "metadata": {},
   "outputs": [
    {
     "data": {
      "text/plain": [
       "<AxesSubplot:>"
      ]
     },
     "execution_count": 13,
     "metadata": {},
     "output_type": "execute_result"
    },
    {
     "data": {
      "image/png": "[encoded data removed]",
      "text/plain": [
       "<Figure size 1800x504 with 1 Axes>"
      ]
     },
     "metadata": {
      "needs_background": "light"
     },
     "output_type": "display_data"
    }
   ],
   "source": [
    "predictions.plot(figsize = (25, 7))"
   ]
  },
  {
   "cell_type": "code",
   "execution_count": null,
   "metadata": {},
   "outputs": [],
   "source": []
  }
 ],
 "metadata": {
  "interpreter": {
   "hash": "6f5583cf1d9466b5c27e75c89cc6b383bed5736d6b16c51c8074d8690011a952"
  },
  "kernelspec": {
   "display_name": "Python 3.9.7 ('base')",
   "language": "python",
   "name": "python3"
  },
  "language_info": {
   "codemirror_mode": {
    "name": "ipython",
    "version": 3
   },
   "file_extension": ".py",
   "mimetype": "text/x-python",
   "name": "python",
   "nbconvert_exporter": "python",
   "pygments_lexer": "ipython3",
   "version": "3.9.7"
  },
  "orig_nbformat": 4
 },
 "nbformat": 4,
 "nbformat_minor": 2
}
