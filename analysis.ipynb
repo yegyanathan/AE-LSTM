{
 "cells": [
  {
   "cell_type": "code",
   "execution_count": null,
   "metadata": {},
   "outputs": [],
   "source": [
    "import torch\n",
    "import torch.nn as nn\n",
    "import pandas as pd\n",
    "import numpy as np\n",
    "from utils import train_val_test_split"
   ]
  },
  {
   "cell_type": "code",
   "execution_count": null,
   "metadata": {},
   "outputs": [],
   "source": [
    "df = pd.read_csv(\"Dataset/IKCO1.csv\", index_col = [0])\n",
    "df"
   ]
  },
  {
   "cell_type": "code",
   "execution_count": null,
   "metadata": {},
   "outputs": [],
   "source": [
    "df[['<CLOSE>']].plot(figsize=(26,7))"
   ]
  },
  {
   "cell_type": "code",
   "execution_count": null,
   "metadata": {},
   "outputs": [],
   "source": [
    "np.log(df[['<HIGH>']]).diff(1)"
   ]
  },
  {
   "cell_type": "code",
   "execution_count": null,
   "metadata": {},
   "outputs": [],
   "source": [
    "df[['<LOW>_diff']] = df[['<LOW>']].diff(1)\n",
    "df[['<LOW>_diff']].plot(figsize=(26,7))"
   ]
  },
  {
   "cell_type": "code",
   "execution_count": null,
   "metadata": {},
   "outputs": [],
   "source": [
    "from utils import kpss_test, adf_test\n",
    "\n",
    "adf_test(df[['<LOW>_diff']].dropna())"
   ]
  },
  {
   "cell_type": "code",
   "execution_count": null,
   "metadata": {},
   "outputs": [],
   "source": [
    "kpss_test(df[['<LOW>_diff']].dropna())"
   ]
  },
  {
   "cell_type": "code",
   "execution_count": null,
   "metadata": {},
   "outputs": [],
   "source": [
    "def diff_inv(series_diff, first_value):\n",
    "\n",
    "    series_inverted = np.r_[first_value, series_diff].cumsum().astype('float64')\n",
    "    return series_inverted"
   ]
  },
  {
   "cell_type": "code",
   "execution_count": null,
   "metadata": {},
   "outputs": [],
   "source": [
    "train = df[:1000]\n",
    "test = df[1000:1500]\n",
    "\n",
    "test[['<LOW>']].plot(figsize=(26,7))"
   ]
  },
  {
   "cell_type": "code",
   "execution_count": null,
   "metadata": {},
   "outputs": [],
   "source": [
    "df[['<CLOSE>']][-91:][:-1]"
   ]
  },
  {
   "cell_type": "code",
   "execution_count": null,
   "metadata": {},
   "outputs": [],
   "source": [
    "test[['<LOW>_diff']].plot(figsize=(26,7))"
   ]
  },
  {
   "cell_type": "code",
   "execution_count": null,
   "metadata": {},
   "outputs": [],
   "source": [
    "pd.Series(diff_inv(test['<LOW>_diff'], train['<LOW>'][len(train)-1])).plot(figsize=(26,7))"
   ]
  },
  {
   "cell_type": "code",
   "execution_count": null,
   "metadata": {},
   "outputs": [],
   "source": [
    "df[['<CLOSE>']][1:10].max()[0]"
   ]
  },
  {
   "cell_type": "code",
   "execution_count": null,
   "metadata": {},
   "outputs": [],
   "source": [
    "df = df[['<OPEN>','<HIGH>','<LOW>','<CLOSE>','<VOL>']] "
   ]
  },
  {
   "cell_type": "code",
   "execution_count": null,
   "metadata": {},
   "outputs": [],
   "source": [
    "def create_dataset(X, y, time_step, k_days):\n",
    "\n",
    "    dataX, dataY = [], []\n",
    "    \n",
    "    for i in range(time_step, len(X) - k_days):\n",
    "\n",
    "        dataX.append(X[i - time_step : i])\n",
    "        returns_10 = (y[i + k_days - 1] - y[i]) / y[i]\n",
    "        dataY.append(returns_10)\n",
    "        \n",
    "    return dataX, dataY\n",
    "\n",
    "x, y = create_dataset(df, df[['<CLOSE>']], 10, 10)"
   ]
  }
 ],
 "metadata": {
  "interpreter": {
   "hash": "6f5583cf1d9466b5c27e75c89cc6b383bed5736d6b16c51c8074d8690011a952"
  },
  "kernelspec": {
   "display_name": "Python 3.9.7 ('base')",
   "language": "python",
   "name": "python3"
  },
  "language_info": {
   "codemirror_mode": {
    "name": "ipython",
    "version": 3
   },
   "file_extension": ".py",
   "mimetype": "text/x-python",
   "name": "python",
   "nbconvert_exporter": "python",
   "pygments_lexer": "ipython3",
   "version": "3.9.7"
  },
  "orig_nbformat": 4
 },
 "nbformat": 4,
 "nbformat_minor": 2
}
