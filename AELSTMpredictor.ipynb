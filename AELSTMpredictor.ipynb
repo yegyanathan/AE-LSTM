{
 "cells": [
  {
   "cell_type": "code",
   "execution_count": 1,
   "metadata": {},
   "outputs": [],
   "source": [
    "import torch\n",
    "import numpy as np\n",
    "import pandas as pd\n",
    "from pytorch_lightning import Trainer\n",
    "from pytorch_lightning.loggers import TensorBoardLogger\n",
    "from pytorch_lightning.callbacks import ModelCheckpoint, EarlyStopping\n",
    "import torch.nn as nn\n",
    "\n",
    "from lightning_models import ForecastNextKDays_Boosted\n",
    "from torchinfo import summary"
   ]
  },
  {
   "cell_type": "code",
   "execution_count": 2,
   "metadata": {},
   "outputs": [
    {
     "data": {
      "text/plain": [
       "==========================================================================================\n",
       "Layer (type:depth-idx)                   Output Shape              Param #\n",
       "==========================================================================================\n",
       "ForecastNextKDays_Boosted                --                        --\n",
       "├─AELSTM: 1-1                            [128, 1]                  --\n",
       "│    └─Encoder: 2-1                      [128, 21, 2]              --\n",
       "│    │    └─LSTM: 3-1                    [128, 21, 3]              120\n",
       "│    │    └─LSTM: 3-2                    [128, 21, 2]              56\n",
       "│    └─Decoder: 2-2                      [128, 21, 5]              --\n",
       "│    │    └─LSTM: 3-3                    [128, 21, 3]              84\n",
       "│    │    └─LSTM: 3-4                    [128, 21, 5]              200\n",
       "│    └─forecastLSTM: 2-3                 [128, 1]                  --\n",
       "│    │    └─LSTM: 3-5                    [128, 21, 128]            463,872\n",
       "│    │    └─Linear: 3-6                  [128, 1]                  129\n",
       "├─L1Loss: 1-2                            --                        --\n",
       "├─MeanAbsoluteError: 1-3                 --                        --\n",
       "==========================================================================================\n",
       "Total params: 464,461\n",
       "Trainable params: 464,461\n",
       "Non-trainable params: 0\n",
       "Total mult-adds (G): 1.25\n",
       "==========================================================================================\n",
       "Input size (MB): 0.05\n",
       "Forward/backward pass size (MB): 3.03\n",
       "Params size (MB): 1.86\n",
       "Estimated Total Size (MB): 4.94\n",
       "=========================================================================================="
      ]
     },
     "execution_count": 2,
     "metadata": {},
     "output_type": "execute_result"
    }
   ],
   "source": [
    "model = ForecastNextKDays_Boosted(data_path = 'Dataset/IKCO1.csv',      \n",
    "                        split = [0.80, 0.10, 0.10],\n",
    "                        batch_size = 128,\n",
    "                        learning_rate = 5e-4,\n",
    "                        weight_decay = 0.0001)\n",
    "\n",
    "\n",
    "summary(model, input_size = (128, 21, 5))"
   ]
  },
  {
   "cell_type": "code",
   "execution_count": 3,
   "metadata": {},
   "outputs": [],
   "source": [
    "checkpoint_callback = ModelCheckpoint(dirpath = 'forecast-boosted',\n",
    "                                    filename = \"checkpoint.ckpt\",\n",
    "                                    every_n_epochs = 1,\n",
    "                                    monitor = 'val_loss',\n",
    "                                    mode = 'min')\n",
    "\n",
    "early_stop_callback = EarlyStopping(monitor = \"val_loss\",\n",
    "                                    min_delta = 0.00,\n",
    "                                    patience = 30,\n",
    "                                    verbose = False,\n",
    "                                    mode = \"min\")\n",
    "\n",
    "logger = TensorBoardLogger('forecast-boosted-logs/', name = 'forecast-boosted', version = 0)"
   ]
  },
  {
   "cell_type": "code",
   "execution_count": 4,
   "metadata": {},
   "outputs": [
    {
     "name": "stderr",
     "output_type": "stream",
     "text": [
      "GPU available: True, used: True\n",
      "TPU available: False, using: 0 TPU cores\n",
      "IPU available: False, using: 0 IPUs\n",
      "HPU available: False, using: 0 HPUs\n",
      "LOCAL_RANK: 0 - CUDA_VISIBLE_DEVICES: [0]\n",
      "\n",
      "  | Name                | Type              | Params\n",
      "----------------------------------------------------------\n",
      "0 | model               | AELSTM            | 464 K \n",
      "1 | loss                | L1Loss            | 0     \n",
      "2 | mean_absolute_error | MeanAbsoluteError | 0     \n",
      "----------------------------------------------------------\n",
      "464 K     Trainable params\n",
      "0         Non-trainable params\n",
      "464 K     Total params\n",
      "1.858     Total estimated model params size (MB)\n"
     ]
    },
    {
     "name": "stdout",
     "output_type": "stream",
     "text": [
      "Sanity Checking: 0it [00:00, ?it/s]"
     ]
    },
    {
     "name": "stderr",
     "output_type": "stream",
     "text": [
      "c:\\Anaconda\\lib\\site-packages\\pytorch_lightning\\trainer\\connectors\\data_connector.py:240: PossibleUserWarning: The dataloader, val_dataloader 0, does not have many workers which may be a bottleneck. Consider increasing the value of the `num_workers` argument` (try 8 which is the number of cpus on this machine) in the `DataLoader` init to improve performance.\n",
      "  rank_zero_warn(\n"
     ]
    },
    {
     "name": "stdout",
     "output_type": "stream",
     "text": [
      "                                                                           "
     ]
    },
    {
     "name": "stderr",
     "output_type": "stream",
     "text": [
      "c:\\Anaconda\\lib\\site-packages\\pytorch_lightning\\trainer\\connectors\\data_connector.py:240: PossibleUserWarning: The dataloader, train_dataloader, does not have many workers which may be a bottleneck. Consider increasing the value of the `num_workers` argument` (try 8 which is the number of cpus on this machine) in the `DataLoader` init to improve performance.\n",
      "  rank_zero_warn(\n",
      "c:\\Anaconda\\lib\\site-packages\\pytorch_lightning\\trainer\\trainer.py:1927: PossibleUserWarning: The number of training batches (25) is smaller than the logging interval Trainer(log_every_n_steps=50). Set a lower value for log_every_n_steps if you want to see logs for the training epoch.\n",
      "  rank_zero_warn(\n"
     ]
    },
    {
     "name": "stdout",
     "output_type": "stream",
     "text": [
      "Epoch 157:   0%|          | 0/27 [00:00<?, ?it/s, loss=0.0461, v_num=0, train_loss=0.0554]         "
     ]
    },
    {
     "name": "stderr",
     "output_type": "stream",
     "text": [
      "c:\\Anaconda\\lib\\site-packages\\pytorch_lightning\\trainer\\trainer.py:724: UserWarning: Detected KeyboardInterrupt, attempting graceful shutdown...\n",
      "  rank_zero_warn(\"Detected KeyboardInterrupt, attempting graceful shutdown...\")\n"
     ]
    }
   ],
   "source": [
    "trainer = Trainer(\n",
    "    default_root_dir = 'forecast-boosted-logs/',\n",
    "    gpus = (1 if torch.cuda.is_available() else 0),\n",
    "    callbacks = [checkpoint_callback, early_stop_callback],\n",
    "    max_epochs = 200,\n",
    "    logger = logger)\n",
    "\n",
    "trainer.fit(model = model)"
   ]
  },
  {
   "cell_type": "code",
   "execution_count": 5,
   "metadata": {},
   "outputs": [
    {
     "name": "stderr",
     "output_type": "stream",
     "text": [
      "c:\\Anaconda\\lib\\site-packages\\pytorch_lightning\\trainer\\trainer.py:1444: UserWarning: `.test(ckpt_path=None)` was called without a model. The best model of the previous `fit` call will be used. You can pass `test(ckpt_path='best')` to use and best model checkpoint and avoid this warning or `ckpt_path=trainer.checkpoint_callback.last_model_path` to use the last model.\n",
      "  rank_zero_warn(\n",
      "c:\\Anaconda\\lib\\site-packages\\pytorch_lightning\\trainer\\configuration_validator.py:412: LightningDeprecationWarning: `LightningDataModule.on_save_checkpoint` was deprecated in v1.6 and will be removed in v1.8. Use `state_dict` instead.\n",
      "  rank_zero_deprecation(\n",
      "c:\\Anaconda\\lib\\site-packages\\pytorch_lightning\\trainer\\configuration_validator.py:417: LightningDeprecationWarning: `LightningDataModule.on_load_checkpoint` was deprecated in v1.6 and will be removed in v1.8. Use `load_state_dict` instead.\n",
      "  rank_zero_deprecation(\n",
      "Restoring states from the checkpoint path at C:\\Users\\Yegyanathan V\\Desktop\\Python\\Deep Learning\\AE-LSTM\\forecast-boosted\\checkpoint.ckpt.ckpt\n",
      "LOCAL_RANK: 0 - CUDA_VISIBLE_DEVICES: [0]\n",
      "Loaded model weights from checkpoint at C:\\Users\\Yegyanathan V\\Desktop\\Python\\Deep Learning\\AE-LSTM\\forecast-boosted\\checkpoint.ckpt.ckpt\n",
      "c:\\Anaconda\\lib\\site-packages\\pytorch_lightning\\trainer\\connectors\\data_connector.py:240: PossibleUserWarning: The dataloader, test_dataloader 0, does not have many workers which may be a bottleneck. Consider increasing the value of the `num_workers` argument` (try 8 which is the number of cpus on this machine) in the `DataLoader` init to improve performance.\n",
      "  rank_zero_warn(\n"
     ]
    },
    {
     "name": "stdout",
     "output_type": "stream",
     "text": [
      "Testing DataLoader 0: 100%|██████████| 2/2 [00:00<00:00, 77.13it/s] =0, train_loss=0.0554]\n",
      "────────────────────────────────────────────────────────────────────────────────────────────────────────────────────────\n",
      "       Test metric             DataLoader 0\n",
      "────────────────────────────────────────────────────────────────────────────────────────────────────────────────────────\n",
      "           MAE              0.18012051284313202\n",
      "────────────────────────────────────────────────────────────────────────────────────────────────────────────────────────\n"
     ]
    },
    {
     "data": {
      "text/plain": [
       "[{'MAE': 0.18012051284313202}]"
      ]
     },
     "execution_count": 5,
     "metadata": {},
     "output_type": "execute_result"
    }
   ],
   "source": [
    "trainer.test(datamodule = model)"
   ]
  },
  {
   "cell_type": "code",
   "execution_count": 49,
   "metadata": {},
   "outputs": [],
   "source": [
    "from utils import create_dataset\n",
    "\n",
    "model = model.load_from_checkpoint(\"forecast-boosted\\checkpoint.ckpt.ckpt\")\n",
    "df = pd.read_csv('Dataset\\FOLD1.csv', index_col = [0])\n",
    "\n",
    "df_X = df[['<OPEN>','<HIGH>','<LOW>','<CLOSE>','<VOL>']] \n",
    "df_y = df[['<CLOSE>']]\n",
    "\n",
    "df_X_scaled = model.scaler_X.transform(df_X)\n",
    "\n",
    "\n",
    "inputs, actuals = create_dataset(df_X_scaled, df_y, 21, 10)"
   ]
  },
  {
   "cell_type": "code",
   "execution_count": 50,
   "metadata": {},
   "outputs": [
    {
     "name": "stdout",
     "output_type": "stream",
     "text": [
      "(2996, 21, 5) (2996, 1)\n"
     ]
    }
   ],
   "source": [
    "print(inputs.shape, actuals.shape)"
   ]
  },
  {
   "cell_type": "code",
   "execution_count": 51,
   "metadata": {},
   "outputs": [
    {
     "data": {
      "text/plain": [
       "tensor([[[0.1121, 0.0961, 0.1179, 0.1121, 1.8720],\n",
       "         [0.1121, 0.0961, 0.1221, 0.1162, 0.4001],\n",
       "         [0.1162, 0.0995, 0.1196, 0.1199, 0.5050],\n",
       "         ...,\n",
       "         [0.1100, 0.0905, 0.1115, 0.1094, 0.0079],\n",
       "         [0.1094, 0.0897, 0.1110, 0.1086, 0.0115],\n",
       "         [0.1086, 0.0893, 0.1102, 0.1080, 0.0076]],\n",
       "\n",
       "        [[0.1121, 0.0961, 0.1221, 0.1162, 0.4001],\n",
       "         [0.1162, 0.0995, 0.1196, 0.1199, 0.5050],\n",
       "         [0.1199, 0.0986, 0.1217, 0.1157, 0.1068],\n",
       "         ...,\n",
       "         [0.1094, 0.0897, 0.1110, 0.1086, 0.0115],\n",
       "         [0.1086, 0.0893, 0.1102, 0.1080, 0.0076],\n",
       "         [0.1080, 0.0909, 0.1096, 0.1079, 0.0055]],\n",
       "\n",
       "        [[0.1162, 0.0995, 0.1196, 0.1199, 0.5050],\n",
       "         [0.1199, 0.0986, 0.1217, 0.1157, 0.1068],\n",
       "         [0.1157, 0.0951, 0.1174, 0.1119, 0.0595],\n",
       "         ...,\n",
       "         [0.1086, 0.0893, 0.1102, 0.1080, 0.0076],\n",
       "         [0.1080, 0.0909, 0.1096, 0.1079, 0.0055],\n",
       "         [0.1079, 0.0925, 0.1126, 0.1086, 0.0121]],\n",
       "\n",
       "        ...,\n",
       "\n",
       "        [[1.2964, 1.0288, 1.2767, 1.2277, 0.0556],\n",
       "         [1.2277, 0.9739, 1.2087, 1.1998, 0.0161],\n",
       "         [1.1998, 1.0072, 1.1808, 1.1462, 1.7946],\n",
       "         ...,\n",
       "         [1.4369, 1.2574, 1.4549, 1.4552, 1.0682],\n",
       "         [1.4552, 1.2493, 1.4471, 1.4444, 0.7551],\n",
       "         [1.4444, 1.2331, 1.4549, 1.4434, 0.7111]],\n",
       "\n",
       "        [[1.2277, 0.9739, 1.2087, 1.1998, 0.0161],\n",
       "         [1.1998, 1.0072, 1.1808, 1.1462, 1.7946],\n",
       "         [1.1462, 0.9874, 1.1597, 1.1526, 0.6317],\n",
       "         ...,\n",
       "         [1.4552, 1.2493, 1.4471, 1.4444, 0.7551],\n",
       "         [1.4444, 1.2331, 1.4549, 1.4434, 0.7111],\n",
       "         [1.4434, 1.2574, 1.4995, 1.4702, 0.8265]],\n",
       "\n",
       "        [[1.1998, 1.0072, 1.1808, 1.1462, 1.7946],\n",
       "         [1.1462, 0.9874, 1.1597, 1.1526, 0.6317],\n",
       "         [1.1526, 1.0162, 1.1641, 1.1698, 0.6923],\n",
       "         ...,\n",
       "         [1.4444, 1.2331, 1.4549, 1.4434, 0.7111],\n",
       "         [1.4434, 1.2574, 1.4995, 1.4702, 0.8265],\n",
       "         [1.4702, 1.2556, 1.4482, 1.4444, 1.0670]]])"
      ]
     },
     "execution_count": 51,
     "metadata": {},
     "output_type": "execute_result"
    }
   ],
   "source": [
    "inputs = torch.tensor(inputs.astype(np.float32))\n",
    "inputs"
   ]
  },
  {
   "cell_type": "code",
   "execution_count": 52,
   "metadata": {},
   "outputs": [
    {
     "data": {
      "text/plain": [
       "array([0.11273494, 0.11231129, 0.11191861, ..., 0.9129065 , 0.91264343,\n",
       "       0.9142221 ], dtype=float32)"
      ]
     },
     "execution_count": 52,
     "metadata": {},
     "output_type": "execute_result"
    }
   ],
   "source": [
    "model.eval()\n",
    "with torch.no_grad():\n",
    "    \n",
    "    output, _ = model(inputs)\n",
    "\n",
    "preds = output.squeeze()\n",
    "preds = np.array(preds) \n",
    "preds"
   ]
  },
  {
   "cell_type": "code",
   "execution_count": 53,
   "metadata": {},
   "outputs": [
    {
     "name": "stdout",
     "output_type": "stream",
     "text": [
      "(2996,)\n"
     ]
    }
   ],
   "source": [
    "print(preds.shape)"
   ]
  },
  {
   "cell_type": "code",
   "execution_count": 54,
   "metadata": {},
   "outputs": [],
   "source": [
    "predictions = pd.DataFrame(preds, columns = ['preds'])\n",
    "predictions[['preds']] = model.scaler_y.inverse_transform(predictions[['preds']])"
   ]
  },
  {
   "cell_type": "code",
   "execution_count": 55,
   "metadata": {},
   "outputs": [
    {
     "data": {
      "text/html": [
       "<div>\n",
       "<style scoped>\n",
       "    .dataframe tbody tr th:only-of-type {\n",
       "        vertical-align: middle;\n",
       "    }\n",
       "\n",
       "    .dataframe tbody tr th {\n",
       "        vertical-align: top;\n",
       "    }\n",
       "\n",
       "    .dataframe thead th {\n",
       "        text-align: right;\n",
       "    }\n",
       "</style>\n",
       "<table border=\"1\" class=\"dataframe\">\n",
       "  <thead>\n",
       "    <tr style=\"text-align: right;\">\n",
       "      <th></th>\n",
       "      <th>preds</th>\n",
       "      <th>actuals</th>\n",
       "    </tr>\n",
       "  </thead>\n",
       "  <tbody>\n",
       "    <tr>\n",
       "      <th>0</th>\n",
       "      <td>1905.915039</td>\n",
       "      <td>1900.0</td>\n",
       "    </tr>\n",
       "    <tr>\n",
       "      <th>1</th>\n",
       "      <td>1901.965820</td>\n",
       "      <td>1938.0</td>\n",
       "    </tr>\n",
       "    <tr>\n",
       "      <th>2</th>\n",
       "      <td>1898.305298</td>\n",
       "      <td>1973.0</td>\n",
       "    </tr>\n",
       "    <tr>\n",
       "      <th>3</th>\n",
       "      <td>1899.457275</td>\n",
       "      <td>1934.0</td>\n",
       "    </tr>\n",
       "    <tr>\n",
       "      <th>4</th>\n",
       "      <td>1903.099854</td>\n",
       "      <td>1898.0</td>\n",
       "    </tr>\n",
       "    <tr>\n",
       "      <th>5</th>\n",
       "      <td>1905.557007</td>\n",
       "      <td>1885.0</td>\n",
       "    </tr>\n",
       "    <tr>\n",
       "      <th>6</th>\n",
       "      <td>1375.547119</td>\n",
       "      <td>1894.0</td>\n",
       "    </tr>\n",
       "    <tr>\n",
       "      <th>7</th>\n",
       "      <td>952.998108</td>\n",
       "      <td>1900.0</td>\n",
       "    </tr>\n",
       "    <tr>\n",
       "      <th>8</th>\n",
       "      <td>772.764404</td>\n",
       "      <td>1904.0</td>\n",
       "    </tr>\n",
       "    <tr>\n",
       "      <th>9</th>\n",
       "      <td>817.442017</td>\n",
       "      <td>1906.0</td>\n",
       "    </tr>\n",
       "  </tbody>\n",
       "</table>\n",
       "</div>"
      ],
      "text/plain": [
       "         preds  actuals\n",
       "0  1905.915039   1900.0\n",
       "1  1901.965820   1938.0\n",
       "2  1898.305298   1973.0\n",
       "3  1899.457275   1934.0\n",
       "4  1903.099854   1898.0\n",
       "5  1905.557007   1885.0\n",
       "6  1375.547119   1894.0\n",
       "7   952.998108   1900.0\n",
       "8   772.764404   1904.0\n",
       "9   817.442017   1906.0"
      ]
     },
     "execution_count": 55,
     "metadata": {},
     "output_type": "execute_result"
    }
   ],
   "source": [
    "predictions['actuals'] = df_y['<CLOSE>']\n",
    "predictions.head(10)"
   ]
  },
  {
   "cell_type": "code",
   "execution_count": 56,
   "metadata": {},
   "outputs": [
    {
     "data": {
      "text/plain": [
       "<AxesSubplot:>"
      ]
     },
     "execution_count": 56,
     "metadata": {},
     "output_type": "execute_result"
    },
    {
     "data": {
      "image/png": "[encoded data removed]",
      "text/plain": [
       "<Figure size 1800x504 with 1 Axes>"
      ]
     },
     "metadata": {
      "needs_background": "light"
     },
     "output_type": "display_data"
    }
   ],
   "source": [
    "predictions.plot(figsize = (25, 7))"
   ]
  },
  {
   "cell_type": "code",
   "execution_count": null,
   "metadata": {},
   "outputs": [],
   "source": []
  }
 ],
 "metadata": {
  "interpreter": {
   "hash": "6f5583cf1d9466b5c27e75c89cc6b383bed5736d6b16c51c8074d8690011a952"
  },
  "kernelspec": {
   "display_name": "Python 3.9.7 ('base')",
   "language": "python",
   "name": "python3"
  },
  "language_info": {
   "codemirror_mode": {
    "name": "ipython",
    "version": 3
   },
   "file_extension": ".py",
   "mimetype": "text/x-python",
   "name": "python",
   "nbconvert_exporter": "python",
   "pygments_lexer": "ipython3",
   "version": "3.9.7"
  },
  "orig_nbformat": 4
 },
 "nbformat": 4,
 "nbformat_minor": 2
}
